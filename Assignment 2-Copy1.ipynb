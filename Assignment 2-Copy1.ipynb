{
 "cells": [
  {
   "cell_type": "markdown",
   "id": "4d5f679c",
   "metadata": {},
   "source": [
    "# Assignment 2"
   ]
  },
  {
   "cell_type": "markdown",
   "id": "03f936b8",
   "metadata": {},
   "source": [
    "1.\n",
    "Python boolean type is one of the built-in data types provided by Python, which represents one of the two values i.e. True or False. Generally, it is used to represent the truth values of the expressions. For example, 1== 0 is True whereas 2<1 is False."
   ]
  },
  {
   "cell_type": "markdown",
   "id": "ac028f8d",
   "metadata": {},
   "source": [
    "2.\n",
    "There are three logical operators that are used to compare values. They evaluate expressions down to Boolean values, returning either True or False . These operators are and , or , and not "
   ]
  },
  {
   "cell_type": "markdown",
   "id": "d726af04",
   "metadata": {},
   "source": [
    "3.\n",
    "\n",
    "1.AND Boolean Operator in Python\n",
    "The AND boolean operator is similar to the bitwise AND operator where the operator analyzes the expressions written on both sides and returns the output.\n",
    "\n",
    "True and True = True\n",
    "True and False = False\n",
    "False and True = False\n",
    "False and False = False\n",
    "\n",
    "2.Not Boolean Operator in Python\n",
    "The OR operator is similar to the OR bitwise operator. In the bitwise OR, we were focussing on either of the bit being 1. Here, we take into account if either of the expression is true or not. If at least one expression is true, consequently, the result is true.\n",
    "\n",
    "True or True = True\n",
    "True or False = True\n",
    "False or True = True\n",
    "False or False = False\n",
    "\n",
    "3.Or Boolean Operator in Python\n",
    "The NOT operator reverses the result of the boolean expression that follows the operator. It is important to note that the NOT operator will only reverse the final result of the expression that immediately follows. Moreover, the NOT operator is denoted by the keyword \"not\".\n",
    "\n",
    "not(True) = False\n",
    "not(False) = True"
   ]
  },
  {
   "cell_type": "markdown",
   "id": "fc85e040",
   "metadata": {},
   "source": [
    "4.What are the values of the following expressions?"
   ]
  },
  {
   "cell_type": "code",
   "execution_count": 1,
   "id": "92ec2511",
   "metadata": {},
   "outputs": [
    {
     "data": {
      "text/plain": [
       "False"
      ]
     },
     "execution_count": 1,
     "metadata": {},
     "output_type": "execute_result"
    }
   ],
   "source": [
    "(5 > 4) and (3 == 5) #False"
   ]
  },
  {
   "cell_type": "code",
   "execution_count": 2,
   "id": "b7d800bf",
   "metadata": {},
   "outputs": [
    {
     "data": {
      "text/plain": [
       "False"
      ]
     },
     "execution_count": 2,
     "metadata": {},
     "output_type": "execute_result"
    }
   ],
   "source": [
    "not (5 > 4) #False"
   ]
  },
  {
   "cell_type": "code",
   "execution_count": 3,
   "id": "9202b7e6",
   "metadata": {},
   "outputs": [
    {
     "data": {
      "text/plain": [
       "True"
      ]
     },
     "execution_count": 3,
     "metadata": {},
     "output_type": "execute_result"
    }
   ],
   "source": [
    "(5 > 4) or (3 == 5) #True"
   ]
  },
  {
   "cell_type": "code",
   "execution_count": 4,
   "id": "06be2a9e",
   "metadata": {},
   "outputs": [
    {
     "data": {
      "text/plain": [
       "False"
      ]
     },
     "execution_count": 4,
     "metadata": {},
     "output_type": "execute_result"
    }
   ],
   "source": [
    "not ((5 > 4) or (3 == 5)) #False"
   ]
  },
  {
   "cell_type": "code",
   "execution_count": 5,
   "id": "edc1e506",
   "metadata": {},
   "outputs": [
    {
     "data": {
      "text/plain": [
       "False"
      ]
     },
     "execution_count": 5,
     "metadata": {},
     "output_type": "execute_result"
    }
   ],
   "source": [
    "(True and True) and (True == False) #False"
   ]
  },
  {
   "cell_type": "code",
   "execution_count": 6,
   "id": "3f54af07",
   "metadata": {},
   "outputs": [
    {
     "data": {
      "text/plain": [
       "True"
      ]
     },
     "execution_count": 6,
     "metadata": {},
     "output_type": "execute_result"
    }
   ],
   "source": [
    "(not False) or (not True)  #True"
   ]
  },
  {
   "cell_type": "markdown",
   "id": "a2ba463d",
   "metadata": {},
   "source": [
    "5. \n",
    "The 6 types of Python comparison operators. They include Less than(<), Greater than(>), Less than or equal to(<=), Greater than or equal to(>=), Equal to(==) and Not equal to (!=)."
   ]
  },
  {
   "cell_type": "markdown",
   "id": "89c302e5",
   "metadata": {},
   "source": [
    "6.\n",
    "\n",
    "The “=” is an assignment operator is used to assign the value on the right to the variable on the left. The '==' operator checks whether the two given operands are equal or not. If so, it returns true. Otherwise it returns false."
   ]
  },
  {
   "cell_type": "code",
   "execution_count": 7,
   "id": "ec6fc53b",
   "metadata": {},
   "outputs": [
    {
     "name": "stdout",
     "output_type": "stream",
     "text": [
      "10\n"
     ]
    }
   ],
   "source": [
    "#assignment operator\n",
    "a=10\n",
    "print(a)"
   ]
  },
  {
   "cell_type": "code",
   "execution_count": 8,
   "id": "ae4d85fa",
   "metadata": {},
   "outputs": [
    {
     "data": {
      "text/plain": [
       "False"
      ]
     },
     "execution_count": 8,
     "metadata": {},
     "output_type": "execute_result"
    }
   ],
   "source": [
    "#equal to operator\n",
    "a=10\n",
    "b=20\n",
    "a==b  #output is False"
   ]
  },
  {
   "cell_type": "markdown",
   "id": "7885b4fd",
   "metadata": {},
   "source": [
    "7. Identify the three blocks in this code:"
   ]
  },
  {
   "cell_type": "code",
   "execution_count": 15,
   "id": "bb0a0a81",
   "metadata": {},
   "outputs": [
    {
     "name": "stdout",
     "output_type": "stream",
     "text": [
      "ham\n",
      "spam\n",
      "spam\n"
     ]
    }
   ],
   "source": [
    "spam = 0\n",
    "                      #Block 1\n",
    "if spam == 10:\n",
    "    print('eggs')\n",
    "                        #BLock 2\n",
    "if spam > 5:\n",
    "    print('bacon')\n",
    "                       #Block 3\n",
    "else:\n",
    "        print('ham')\n",
    "        print('spam')\n",
    "        print('spam')"
   ]
  },
  {
   "cell_type": "markdown",
   "id": "7cb075e5",
   "metadata": {},
   "source": [
    "8. Write code that prints Hello if 1 is stored in spam, prints Howdy if 2 is stored in spam, and prints\n",
    "Greetings! if anything else is stored in spam."
   ]
  },
  {
   "cell_type": "code",
   "execution_count": 2,
   "id": "666b69b3",
   "metadata": {},
   "outputs": [
    {
     "name": "stdout",
     "output_type": "stream",
     "text": [
      "1\n",
      "Hello\n"
     ]
    }
   ],
   "source": [
    "spam = int(input())\n",
    "\n",
    "if spam==1:\n",
    "    print('Hello')\n",
    "elif spam==2:\n",
    "    print('Howdy')\n",
    "else:\n",
    "    print('Greetings!')"
   ]
  },
  {
   "cell_type": "markdown",
   "id": "9e5c7e22",
   "metadata": {},
   "source": [
    "9. \n",
    " \n",
    "We can stop an infinite loop with CTRL + C"
   ]
  },
  {
   "cell_type": "markdown",
   "id": "d5f7d57e",
   "metadata": {},
   "source": [
    "10.\n",
    "\n",
    "Break: Break statements exist to exit or “break” a python for loop or while conditional loop. When the loop ends, the code picks up from and executes the next line immediately following the loop that was broken.\n",
    "\n",
    "continue: The continue statement is used to skip code within a loop for certain iterations of the loop. After the code is skipped, the loop continues where it left off."
   ]
  },
  {
   "cell_type": "markdown",
   "id": "eebdbabc",
   "metadata": {},
   "source": [
    "11.\n",
    "\n",
    "In a for loop, what is the difference between \n",
    "\n",
    "range(10)       -> range(stop)\n",
    "range(0, 10)    -> range(start,stop)\n",
    "range(0, 10, 1) -> range(start,stop,step)"
   ]
  },
  {
   "cell_type": "markdown",
   "id": "b54266f3",
   "metadata": {},
   "source": [
    "12."
   ]
  },
  {
   "cell_type": "code",
   "execution_count": 12,
   "id": "c1d4fc9e",
   "metadata": {},
   "outputs": [
    {
     "name": "stdout",
     "output_type": "stream",
     "text": [
      "1\n",
      "2\n",
      "3\n",
      "4\n",
      "5\n",
      "6\n",
      "7\n",
      "8\n",
      "9\n",
      "10\n"
     ]
    }
   ],
   "source": [
    "#Print 1 to 10 using or loop\n",
    "for i in range(1,11):\n",
    "    print(i)"
   ]
  },
  {
   "cell_type": "code",
   "execution_count": 13,
   "id": "6742c0c2",
   "metadata": {},
   "outputs": [
    {
     "name": "stdout",
     "output_type": "stream",
     "text": [
      "1\n",
      "2\n",
      "3\n",
      "4\n",
      "5\n",
      "6\n",
      "7\n",
      "8\n",
      "9\n",
      "10\n"
     ]
    }
   ],
   "source": [
    "#Print 1 to 10 using while loop\n",
    "i = 1\n",
    "while(i<=10):\n",
    "    print(i)\n",
    "    i += 1"
   ]
  },
  {
   "cell_type": "markdown",
   "id": "93f4d51a",
   "metadata": {},
   "source": [
    "13.\n",
    "\n",
    "This function can be called with spam.bacon()."
   ]
  }
 ],
 "metadata": {
  "kernelspec": {
   "display_name": "Python 3",
   "language": "python",
   "name": "python3"
  },
  "language_info": {
   "codemirror_mode": {
    "name": "ipython",
    "version": 3
   },
   "file_extension": ".py",
   "mimetype": "text/x-python",
   "name": "python",
   "nbconvert_exporter": "python",
   "pygments_lexer": "ipython3",
   "version": "3.8.8"
  }
 },
 "nbformat": 4,
 "nbformat_minor": 5
}
